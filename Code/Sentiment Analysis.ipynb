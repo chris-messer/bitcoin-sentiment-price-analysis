{
 "cells": [
  {
   "cell_type": "code",
   "execution_count": 5,
   "id": "e6a8ba7f",
   "metadata": {},
   "outputs": [],
   "source": [
    "import os\n",
    "import pandas as pd\n",
    "import transformers"
   ]
  },
  {
   "cell_type": "code",
   "execution_count": 6,
   "id": "44cd6efc",
   "metadata": {},
   "outputs": [
    {
     "name": "stderr",
     "output_type": "stream",
     "text": [
      "/var/folders/f3/g1154c6d5hb7y4_s6bzsyw8m0000gn/T/ipykernel_62936/1397401860.py:1: DtypeWarning: Columns (0,1,2,3,4,8) have mixed types. Specify dtype option on import or set low_memory=False.\n",
      "  btred= pd.read_csv('../Data/bitcoin_reddit_all.csv')\n"
     ]
    }
   ],
   "source": [
    "btred= pd.read_csv('../Data/bitcoin_reddit_all.csv')"
   ]
  },
  {
   "cell_type": "markdown",
   "id": "00978364",
   "metadata": {},
   "source": [
    "# Data Prep"
   ]
  },
  {
   "cell_type": "code",
   "execution_count": 7,
   "id": "67229072",
   "metadata": {},
   "outputs": [
    {
     "data": {
      "text/html": [
       "<div>\n",
       "<style scoped>\n",
       "    .dataframe tbody tr th:only-of-type {\n",
       "        vertical-align: middle;\n",
       "    }\n",
       "\n",
       "    .dataframe tbody tr th {\n",
       "        vertical-align: top;\n",
       "    }\n",
       "\n",
       "    .dataframe thead th {\n",
       "        text-align: right;\n",
       "    }\n",
       "</style>\n",
       "<table border=\"1\" class=\"dataframe\">\n",
       "  <thead>\n",
       "    <tr style=\"text-align: right;\">\n",
       "      <th></th>\n",
       "      <th>Unnamed: 0</th>\n",
       "      <th>datetime</th>\n",
       "      <th>date</th>\n",
       "      <th>author</th>\n",
       "      <th>subreddit</th>\n",
       "      <th>created_utc</th>\n",
       "      <th>score</th>\n",
       "      <th>controversiality</th>\n",
       "      <th>body</th>\n",
       "    </tr>\n",
       "  </thead>\n",
       "  <tbody>\n",
       "    <tr>\n",
       "      <th>0</th>\n",
       "      <td>0</td>\n",
       "      <td>2014-06-26 16:49:41</td>\n",
       "      <td>2014-06-26</td>\n",
       "      <td>HonorConnor</td>\n",
       "      <td>AskReddit</td>\n",
       "      <td>1.403801e+09</td>\n",
       "      <td>162.0</td>\n",
       "      <td>0.0</td>\n",
       "      <td>How do you feel about Bitcoin? I don't really ...</td>\n",
       "    </tr>\n",
       "    <tr>\n",
       "      <th>1</th>\n",
       "      <td>1</td>\n",
       "      <td>2014-05-17 23:30:36</td>\n",
       "      <td>2014-05-17</td>\n",
       "      <td>Talvoren</td>\n",
       "      <td>AskReddit</td>\n",
       "      <td>1.400369e+09</td>\n",
       "      <td>75.0</td>\n",
       "      <td>0.0</td>\n",
       "      <td>[The guy who blew a huge portion of his and hi...</td>\n",
       "    </tr>\n",
       "    <tr>\n",
       "      <th>2</th>\n",
       "      <td>2</td>\n",
       "      <td>2014-12-18 04:54:48</td>\n",
       "      <td>2014-12-18</td>\n",
       "      <td>ninjoe87</td>\n",
       "      <td>Outdoors</td>\n",
       "      <td>1.418878e+09</td>\n",
       "      <td>-4.0</td>\n",
       "      <td>0.0</td>\n",
       "      <td>Because you are a damn liar.\\n\\nFrom my other ...</td>\n",
       "    </tr>\n",
       "    <tr>\n",
       "      <th>3</th>\n",
       "      <td>3</td>\n",
       "      <td>2014-04-30 00:24:16</td>\n",
       "      <td>2014-04-30</td>\n",
       "      <td>fathergrigori54</td>\n",
       "      <td>tf2</td>\n",
       "      <td>1.398817e+09</td>\n",
       "      <td>13.0</td>\n",
       "      <td>0.0</td>\n",
       "      <td>This was the bitcoin hat guy that ACTUALLY del...</td>\n",
       "    </tr>\n",
       "    <tr>\n",
       "      <th>4</th>\n",
       "      <td>4</td>\n",
       "      <td>2014-07-07 16:06:21</td>\n",
       "      <td>2014-07-07</td>\n",
       "      <td>Draber-Bien</td>\n",
       "      <td>starcraft</td>\n",
       "      <td>1.404749e+09</td>\n",
       "      <td>19.0</td>\n",
       "      <td>0.0</td>\n",
       "      <td>I'm sure this is *good* for bitcoin</td>\n",
       "    </tr>\n",
       "  </tbody>\n",
       "</table>\n",
       "</div>"
      ],
      "text/plain": [
       "  Unnamed: 0             datetime        date           author  subreddit  \\\n",
       "0          0  2014-06-26 16:49:41  2014-06-26      HonorConnor  AskReddit   \n",
       "1          1  2014-05-17 23:30:36  2014-05-17         Talvoren  AskReddit   \n",
       "2          2  2014-12-18 04:54:48  2014-12-18         ninjoe87   Outdoors   \n",
       "3          3  2014-04-30 00:24:16  2014-04-30  fathergrigori54        tf2   \n",
       "4          4  2014-07-07 16:06:21  2014-07-07      Draber-Bien  starcraft   \n",
       "\n",
       "    created_utc  score  controversiality  \\\n",
       "0  1.403801e+09  162.0               0.0   \n",
       "1  1.400369e+09   75.0               0.0   \n",
       "2  1.418878e+09   -4.0               0.0   \n",
       "3  1.398817e+09   13.0               0.0   \n",
       "4  1.404749e+09   19.0               0.0   \n",
       "\n",
       "                                                body  \n",
       "0  How do you feel about Bitcoin? I don't really ...  \n",
       "1  [The guy who blew a huge portion of his and hi...  \n",
       "2  Because you are a damn liar.\\n\\nFrom my other ...  \n",
       "3  This was the bitcoin hat guy that ACTUALLY del...  \n",
       "4                I'm sure this is *good* for bitcoin  "
      ]
     },
     "execution_count": 7,
     "metadata": {},
     "output_type": "execute_result"
    }
   ],
   "source": [
    "btred.head()"
   ]
  },
  {
   "cell_type": "markdown",
   "id": "97039f5b",
   "metadata": {},
   "source": [
    "Check how many records it is"
   ]
  },
  {
   "cell_type": "code",
   "execution_count": 8,
   "id": "388a590b",
   "metadata": {},
   "outputs": [
    {
     "data": {
      "text/plain": [
       "4309244"
      ]
     },
     "execution_count": 8,
     "metadata": {},
     "output_type": "execute_result"
    }
   ],
   "source": [
    "len(btred.index)"
   ]
  },
  {
   "cell_type": "markdown",
   "id": "ebc42d65",
   "metadata": {},
   "source": [
    "## Date Filtering"
   ]
  },
  {
   "cell_type": "markdown",
   "id": "c0966448",
   "metadata": {},
   "source": [
    "This dataset and the twitter dataset we want to join it to have different min/max times. Since we will be joining these based on time, we can go ahead and drop any records that occured in this dataset either before or after the twitter data set. "
   ]
  },
  {
   "cell_type": "code",
   "execution_count": 9,
   "id": "02f4119c",
   "metadata": {
    "scrolled": true
   },
   "outputs": [],
   "source": [
    "#import the other dataset\n",
    "twit_df = pd.read_csv('../Data/twitter_data.csv', sep=';')"
   ]
  },
  {
   "cell_type": "code",
   "execution_count": 10,
   "id": "132d34c1",
   "metadata": {},
   "outputs": [],
   "source": [
    "#define a function to output the min/max dates\n",
    "def min_max_dates(df, column_name, source):\n",
    "    df[column_name] = df[column_name].astype('datetime64[ns]')\n",
    "    r = {'min': df[column_name].min(),\n",
    "         'max': df[column_name].max()}\n",
    "    \n",
    "    print(f\"{source} data earliest date \\t:{r['min']}\", '\\n'\n",
    "          f\"{source} data most recent date \\t:{r['max']}\")\n",
    "    return r"
   ]
  },
  {
   "cell_type": "code",
   "execution_count": 11,
   "id": "4229fa67",
   "metadata": {},
   "outputs": [
    {
     "name": "stdout",
     "output_type": "stream",
     "text": [
      "Twitter data earliest date \t:2017-08-01 00:00:00 \n",
      "Twitter data most recent date \t:2019-01-21 23:00:00\n",
      "Reddit data earliest date \t:2009-05-08 13:54:29 \n",
      "Reddit data most recent date \t:2019-12-31 23:58:38\n"
     ]
    }
   ],
   "source": [
    "twitter_date_range = min_max_dates(twit_df, 'Date', 'Twitter')\n",
    "reddit_date_range = min_max_dates(btred, 'datetime','Reddit')"
   ]
  },
  {
   "cell_type": "code",
   "execution_count": 12,
   "id": "c99f83cd",
   "metadata": {},
   "outputs": [],
   "source": [
    "btred_filtered = btred.drop(btred[btred['datetime']< twitter_date_range['min']].index)\n",
    "btred_filtered = btred_filtered.drop(btred_filtered[btred_filtered['datetime'] > twitter_date_range['max']].index)\n"
   ]
  },
  {
   "cell_type": "code",
   "execution_count": 13,
   "id": "2d98d5bb",
   "metadata": {},
   "outputs": [
    {
     "name": "stdout",
     "output_type": "stream",
     "text": [
      "Reddit data earliest date \t:2017-08-01 00:00:33 \n",
      "Reddit data most recent date \t:2019-01-21 22:57:35\n"
     ]
    },
    {
     "data": {
      "text/plain": [
       "{'min': Timestamp('2017-08-01 00:00:33'),\n",
       " 'max': Timestamp('2019-01-21 22:57:35')}"
      ]
     },
     "execution_count": 13,
     "metadata": {},
     "output_type": "execute_result"
    }
   ],
   "source": [
    "min_max_dates(btred_filtered, 'datetime','Reddit')"
   ]
  },
  {
   "cell_type": "code",
   "execution_count": 14,
   "id": "16d24fe4",
   "metadata": {},
   "outputs": [],
   "source": [
    "bitcoin_data = btred_filtered\n",
    "del btred_filtered"
   ]
  },
  {
   "cell_type": "markdown",
   "id": "5d1a3ef9",
   "metadata": {},
   "source": [
    "Now lets look at our data:"
   ]
  },
  {
   "cell_type": "code",
   "execution_count": 15,
   "id": "03e49bf7",
   "metadata": {},
   "outputs": [
    {
     "data": {
      "text/html": [
       "<div>\n",
       "<style scoped>\n",
       "    .dataframe tbody tr th:only-of-type {\n",
       "        vertical-align: middle;\n",
       "    }\n",
       "\n",
       "    .dataframe tbody tr th {\n",
       "        vertical-align: top;\n",
       "    }\n",
       "\n",
       "    .dataframe thead th {\n",
       "        text-align: right;\n",
       "    }\n",
       "</style>\n",
       "<table border=\"1\" class=\"dataframe\">\n",
       "  <thead>\n",
       "    <tr style=\"text-align: right;\">\n",
       "      <th></th>\n",
       "      <th>Unnamed: 0</th>\n",
       "      <th>datetime</th>\n",
       "      <th>date</th>\n",
       "      <th>author</th>\n",
       "      <th>subreddit</th>\n",
       "      <th>created_utc</th>\n",
       "      <th>score</th>\n",
       "      <th>controversiality</th>\n",
       "      <th>body</th>\n",
       "    </tr>\n",
       "  </thead>\n",
       "  <tbody>\n",
       "    <tr>\n",
       "      <th>21497</th>\n",
       "      <td>I sell bitcoin from circle. I charge a little ...</td>\n",
       "      <td>NaT</td>\n",
       "      <td>NaN</td>\n",
       "      <td>NaN</td>\n",
       "      <td>NaN</td>\n",
       "      <td>NaN</td>\n",
       "      <td>NaN</td>\n",
       "      <td>NaN</td>\n",
       "      <td>NaN</td>\n",
       "    </tr>\n",
       "    <tr>\n",
       "      <th>35812</th>\n",
       "      <td>And then you are also assuming that every pers...</td>\n",
       "      <td>NaT</td>\n",
       "      <td>NaN</td>\n",
       "      <td>NaN</td>\n",
       "      <td>NaN</td>\n",
       "      <td>NaN</td>\n",
       "      <td>NaN</td>\n",
       "      <td>NaN</td>\n",
       "      <td>NaN</td>\n",
       "    </tr>\n",
       "    <tr>\n",
       "      <th>39497</th>\n",
       "      <td>I actually hated the doge meme but eventually ...</td>\n",
       "      <td>NaT</td>\n",
       "      <td>NaN</td>\n",
       "      <td>NaN</td>\n",
       "      <td>NaN</td>\n",
       "      <td>NaN</td>\n",
       "      <td>NaN</td>\n",
       "      <td>NaN</td>\n",
       "      <td>NaN</td>\n",
       "    </tr>\n",
       "  </tbody>\n",
       "</table>\n",
       "</div>"
      ],
      "text/plain": [
       "                                              Unnamed: 0 datetime date author  \\\n",
       "21497  I sell bitcoin from circle. I charge a little ...      NaT  NaN    NaN   \n",
       "35812  And then you are also assuming that every pers...      NaT  NaN    NaN   \n",
       "39497  I actually hated the doge meme but eventually ...      NaT  NaN    NaN   \n",
       "\n",
       "      subreddit  created_utc  score  controversiality body  \n",
       "21497       NaN          NaN    NaN               NaN  NaN  \n",
       "35812       NaN          NaN    NaN               NaN  NaN  \n",
       "39497       NaN          NaN    NaN               NaN  NaN  "
      ]
     },
     "execution_count": 15,
     "metadata": {},
     "output_type": "execute_result"
    }
   ],
   "source": [
    "bitcoin_data.head(3)"
   ]
  },
  {
   "cell_type": "code",
   "execution_count": 16,
   "id": "a71a5939",
   "metadata": {},
   "outputs": [
    {
     "data": {
      "text/html": [
       "<div>\n",
       "<style scoped>\n",
       "    .dataframe tbody tr th:only-of-type {\n",
       "        vertical-align: middle;\n",
       "    }\n",
       "\n",
       "    .dataframe tbody tr th {\n",
       "        vertical-align: top;\n",
       "    }\n",
       "\n",
       "    .dataframe thead th {\n",
       "        text-align: right;\n",
       "    }\n",
       "</style>\n",
       "<table border=\"1\" class=\"dataframe\">\n",
       "  <thead>\n",
       "    <tr style=\"text-align: right;\">\n",
       "      <th></th>\n",
       "      <th>Unnamed: 0</th>\n",
       "      <th>datetime</th>\n",
       "      <th>date</th>\n",
       "      <th>author</th>\n",
       "      <th>subreddit</th>\n",
       "      <th>created_utc</th>\n",
       "      <th>score</th>\n",
       "      <th>controversiality</th>\n",
       "      <th>body</th>\n",
       "    </tr>\n",
       "  </thead>\n",
       "  <tbody>\n",
       "    <tr>\n",
       "      <th>4308169</th>\n",
       "      <td>4192285</td>\n",
       "      <td>2019-01-19 22:00:33</td>\n",
       "      <td>2019-01-19</td>\n",
       "      <td>jakesonwu</td>\n",
       "      <td>btc</td>\n",
       "      <td>1.547935e+09</td>\n",
       "      <td>-1.0</td>\n",
       "      <td>1.0</td>\n",
       "      <td>[Who controls Bitcoin Core ?](https://medium.c...</td>\n",
       "    </tr>\n",
       "    <tr>\n",
       "      <th>4308170</th>\n",
       "      <td>4192286</td>\n",
       "      <td>2019-01-02 23:26:56</td>\n",
       "      <td>2019-01-02</td>\n",
       "      <td>shitpplsay</td>\n",
       "      <td>CryptoCurrency</td>\n",
       "      <td>1.546472e+09</td>\n",
       "      <td>-1.0</td>\n",
       "      <td>1.0</td>\n",
       "      <td>Should never ever have to or be able to tie a ...</td>\n",
       "    </tr>\n",
       "    <tr>\n",
       "      <th>4308172</th>\n",
       "      <td>4192288</td>\n",
       "      <td>2019-01-18 20:50:36</td>\n",
       "      <td>2019-01-18</td>\n",
       "      <td>whalecheetah</td>\n",
       "      <td>btc</td>\n",
       "      <td>1.547845e+09</td>\n",
       "      <td>-1.0</td>\n",
       "      <td>1.0</td>\n",
       "      <td>There are no two primary Bitcoin Forks. There ...</td>\n",
       "    </tr>\n",
       "  </tbody>\n",
       "</table>\n",
       "</div>"
      ],
      "text/plain": [
       "        Unnamed: 0            datetime        date        author  \\\n",
       "4308169    4192285 2019-01-19 22:00:33  2019-01-19     jakesonwu   \n",
       "4308170    4192286 2019-01-02 23:26:56  2019-01-02    shitpplsay   \n",
       "4308172    4192288 2019-01-18 20:50:36  2019-01-18  whalecheetah   \n",
       "\n",
       "              subreddit   created_utc  score  controversiality  \\\n",
       "4308169             btc  1.547935e+09   -1.0               1.0   \n",
       "4308170  CryptoCurrency  1.546472e+09   -1.0               1.0   \n",
       "4308172             btc  1.547845e+09   -1.0               1.0   \n",
       "\n",
       "                                                      body  \n",
       "4308169  [Who controls Bitcoin Core ?](https://medium.c...  \n",
       "4308170  Should never ever have to or be able to tie a ...  \n",
       "4308172  There are no two primary Bitcoin Forks. There ...  "
      ]
     },
     "execution_count": 16,
     "metadata": {},
     "output_type": "execute_result"
    }
   ],
   "source": [
    "bitcoin_data.tail(3)"
   ]
  },
  {
   "cell_type": "markdown",
   "id": "e55d0853",
   "metadata": {},
   "source": [
    "Looks like we have some data quality issues. Why do some of our rows not have any values in most of the columns? Lets dig a little deeper, and see if there is a large number of these.  "
   ]
  },
  {
   "cell_type": "code",
   "execution_count": 17,
   "id": "ea851231",
   "metadata": {},
   "outputs": [
    {
     "name": "stdout",
     "output_type": "stream",
     "text": [
      "Has missing fields \t : 65695\n",
      "No missing fields \t : 1705049\n",
      "4.0% of records have formatting issues.\n"
     ]
    }
   ],
   "source": [
    "missing = len(bitcoin_data[bitcoin_data['datetime'].isnull() ==True])\n",
    "not_missing = len(bitcoin_data[bitcoin_data['datetime'].isnull() ==False])\n",
    "print(f\"Has missing fields \\t : {missing}\")\n",
    "print(f\"No missing fields \\t : {not_missing}\")\n",
    "print(f'{round(missing/(not_missing + missing), 2)*100}% of records have formatting issues.')\n",
    "      "
   ]
  },
  {
   "cell_type": "markdown",
   "id": "7f7f78d2",
   "metadata": {},
   "source": [
    "Given 4% have formatting issue that do not allow us to retrieve the time they were posted, we will go ahead and drop these records from our dataset."
   ]
  },
  {
   "cell_type": "code",
   "execution_count": 18,
   "id": "7c8e0485",
   "metadata": {},
   "outputs": [],
   "source": [
    "bitcoin_data = bitcoin_data.drop(bitcoin_data[bitcoin_data['datetime'].isnull() ==True].index)"
   ]
  },
  {
   "cell_type": "code",
   "execution_count": 19,
   "id": "e0142509",
   "metadata": {},
   "outputs": [
    {
     "data": {
      "text/html": [
       "<div>\n",
       "<style scoped>\n",
       "    .dataframe tbody tr th:only-of-type {\n",
       "        vertical-align: middle;\n",
       "    }\n",
       "\n",
       "    .dataframe tbody tr th {\n",
       "        vertical-align: top;\n",
       "    }\n",
       "\n",
       "    .dataframe thead th {\n",
       "        text-align: right;\n",
       "    }\n",
       "</style>\n",
       "<table border=\"1\" class=\"dataframe\">\n",
       "  <thead>\n",
       "    <tr style=\"text-align: right;\">\n",
       "      <th></th>\n",
       "      <th>index</th>\n",
       "      <th>Unnamed: 0</th>\n",
       "      <th>datetime</th>\n",
       "      <th>date</th>\n",
       "      <th>author</th>\n",
       "      <th>subreddit</th>\n",
       "      <th>created_utc</th>\n",
       "      <th>score</th>\n",
       "      <th>controversiality</th>\n",
       "      <th>body</th>\n",
       "    </tr>\n",
       "  </thead>\n",
       "  <tbody>\n",
       "    <tr>\n",
       "      <th>0</th>\n",
       "      <td>1758064</td>\n",
       "      <td>1642193</td>\n",
       "      <td>2017-08-31 06:06:41</td>\n",
       "      <td>2017-08-31</td>\n",
       "      <td>jstolfi</td>\n",
       "      <td>btc</td>\n",
       "      <td>1.504160e+09</td>\n",
       "      <td>2.0</td>\n",
       "      <td>0.0</td>\n",
       "      <td>&amp;gt; Of course the devs force their plans on e...</td>\n",
       "    </tr>\n",
       "    <tr>\n",
       "      <th>1</th>\n",
       "      <td>1758065</td>\n",
       "      <td>1642194</td>\n",
       "      <td>2017-08-04 18:33:17</td>\n",
       "      <td>2017-08-04</td>\n",
       "      <td>zanetackett</td>\n",
       "      <td>btc</td>\n",
       "      <td>1.501872e+09</td>\n",
       "      <td>18.0</td>\n",
       "      <td>0.0</td>\n",
       "      <td>is that the case currently? Bitcoin seems to f...</td>\n",
       "    </tr>\n",
       "    <tr>\n",
       "      <th>2</th>\n",
       "      <td>1758066</td>\n",
       "      <td>1642195</td>\n",
       "      <td>2017-08-09 20:50:47</td>\n",
       "      <td>2017-08-09</td>\n",
       "      <td>csehszlovakze</td>\n",
       "      <td>MGTOW</td>\n",
       "      <td>1.502312e+09</td>\n",
       "      <td>3.0</td>\n",
       "      <td>0.0</td>\n",
       "      <td>he could move his ass to a non-extradition cou...</td>\n",
       "    </tr>\n",
       "    <tr>\n",
       "      <th>3</th>\n",
       "      <td>1758067</td>\n",
       "      <td>1642196</td>\n",
       "      <td>2017-08-27 00:09:45</td>\n",
       "      <td>2017-08-27</td>\n",
       "      <td>ohsnapitsjaycee</td>\n",
       "      <td>GCXRep</td>\n",
       "      <td>1.503793e+09</td>\n",
       "      <td>1.0</td>\n",
       "      <td>0.0</td>\n",
       "      <td>**#98**\\n\\nTRADE COMPLETED WITH: /u/crustymech...</td>\n",
       "    </tr>\n",
       "    <tr>\n",
       "      <th>4</th>\n",
       "      <td>1758068</td>\n",
       "      <td>1642197</td>\n",
       "      <td>2017-08-14 16:25:49</td>\n",
       "      <td>2017-08-14</td>\n",
       "      <td>dagfar69</td>\n",
       "      <td>brasil</td>\n",
       "      <td>1.502728e+09</td>\n",
       "      <td>2.0</td>\n",
       "      <td>0.0</td>\n",
       "      <td>Ele explicou como receber o \"salário\" em bitco...</td>\n",
       "    </tr>\n",
       "  </tbody>\n",
       "</table>\n",
       "</div>"
      ],
      "text/plain": [
       "     index Unnamed: 0            datetime        date           author  \\\n",
       "0  1758064    1642193 2017-08-31 06:06:41  2017-08-31          jstolfi   \n",
       "1  1758065    1642194 2017-08-04 18:33:17  2017-08-04      zanetackett   \n",
       "2  1758066    1642195 2017-08-09 20:50:47  2017-08-09    csehszlovakze   \n",
       "3  1758067    1642196 2017-08-27 00:09:45  2017-08-27  ohsnapitsjaycee   \n",
       "4  1758068    1642197 2017-08-14 16:25:49  2017-08-14         dagfar69   \n",
       "\n",
       "  subreddit   created_utc  score  controversiality  \\\n",
       "0       btc  1.504160e+09    2.0               0.0   \n",
       "1       btc  1.501872e+09   18.0               0.0   \n",
       "2     MGTOW  1.502312e+09    3.0               0.0   \n",
       "3    GCXRep  1.503793e+09    1.0               0.0   \n",
       "4    brasil  1.502728e+09    2.0               0.0   \n",
       "\n",
       "                                                body  \n",
       "0  &gt; Of course the devs force their plans on e...  \n",
       "1  is that the case currently? Bitcoin seems to f...  \n",
       "2  he could move his ass to a non-extradition cou...  \n",
       "3  **#98**\\n\\nTRADE COMPLETED WITH: /u/crustymech...  \n",
       "4  Ele explicou como receber o \"salário\" em bitco...  "
      ]
     },
     "execution_count": 19,
     "metadata": {},
     "output_type": "execute_result"
    }
   ],
   "source": [
    "bitcoin_data.reset_index(inplace=True)\n",
    "bitcoin_data.head()"
   ]
  },
  {
   "cell_type": "markdown",
   "id": "1a8638d2",
   "metadata": {},
   "source": [
    "## Comment text cleansing"
   ]
  },
  {
   "cell_type": "markdown",
   "id": "8cb53367",
   "metadata": {},
   "source": [
    "Looking at the first few comments, it definetly appears we will need to do some processing on the text to clean it up before pushing through a sentiment analyzer.\n",
    "\n",
    "A couple of items we should be sure to handle:\n",
    "- urls\n",
    "- special characters\n",
    "- new lines\n",
    "- foreign languages\n",
    "- numbers (typically do not add context to the sentiment)"
   ]
  },
  {
   "cell_type": "code",
   "execution_count": 20,
   "id": "e7078d06",
   "metadata": {},
   "outputs": [
    {
     "data": {
      "text/html": [
       "<div>\n",
       "<style scoped>\n",
       "    .dataframe tbody tr th:only-of-type {\n",
       "        vertical-align: middle;\n",
       "    }\n",
       "\n",
       "    .dataframe tbody tr th {\n",
       "        vertical-align: top;\n",
       "    }\n",
       "\n",
       "    .dataframe thead th {\n",
       "        text-align: right;\n",
       "    }\n",
       "</style>\n",
       "<table border=\"1\" class=\"dataframe\">\n",
       "  <thead>\n",
       "    <tr style=\"text-align: right;\">\n",
       "      <th></th>\n",
       "      <th>index</th>\n",
       "      <th>Unnamed: 0</th>\n",
       "      <th>datetime</th>\n",
       "      <th>date</th>\n",
       "      <th>author</th>\n",
       "      <th>subreddit</th>\n",
       "      <th>created_utc</th>\n",
       "      <th>score</th>\n",
       "      <th>controversiality</th>\n",
       "      <th>body</th>\n",
       "    </tr>\n",
       "  </thead>\n",
       "  <tbody>\n",
       "    <tr>\n",
       "      <th>0</th>\n",
       "      <td>1758064</td>\n",
       "      <td>1642193</td>\n",
       "      <td>2017-08-31 06:06:41</td>\n",
       "      <td>2017-08-31</td>\n",
       "      <td>jstolfi</td>\n",
       "      <td>btc</td>\n",
       "      <td>1.504160e+09</td>\n",
       "      <td>2.0</td>\n",
       "      <td>0.0</td>\n",
       "      <td>gt Of course the devs force their plans on eve...</td>\n",
       "    </tr>\n",
       "    <tr>\n",
       "      <th>1</th>\n",
       "      <td>1758065</td>\n",
       "      <td>1642194</td>\n",
       "      <td>2017-08-04 18:33:17</td>\n",
       "      <td>2017-08-04</td>\n",
       "      <td>zanetackett</td>\n",
       "      <td>btc</td>\n",
       "      <td>1.501872e+09</td>\n",
       "      <td>18.0</td>\n",
       "      <td>0.0</td>\n",
       "      <td>is that the case currently? Bitcoin seems to f...</td>\n",
       "    </tr>\n",
       "    <tr>\n",
       "      <th>2</th>\n",
       "      <td>1758066</td>\n",
       "      <td>1642195</td>\n",
       "      <td>2017-08-09 20:50:47</td>\n",
       "      <td>2017-08-09</td>\n",
       "      <td>csehszlovakze</td>\n",
       "      <td>MGTOW</td>\n",
       "      <td>1.502312e+09</td>\n",
       "      <td>3.0</td>\n",
       "      <td>0.0</td>\n",
       "      <td>he could move his ass to a nonextradition coun...</td>\n",
       "    </tr>\n",
       "    <tr>\n",
       "      <th>3</th>\n",
       "      <td>1758067</td>\n",
       "      <td>1642196</td>\n",
       "      <td>2017-08-27 00:09:45</td>\n",
       "      <td>2017-08-27</td>\n",
       "      <td>ohsnapitsjaycee</td>\n",
       "      <td>GCXRep</td>\n",
       "      <td>1.503793e+09</td>\n",
       "      <td>1.0</td>\n",
       "      <td>0.0</td>\n",
       "      <td>TRADE COMPLETED WITH ucrustymech  ITEMS TRAD...</td>\n",
       "    </tr>\n",
       "    <tr>\n",
       "      <th>4</th>\n",
       "      <td>1758068</td>\n",
       "      <td>1642197</td>\n",
       "      <td>2017-08-14 16:25:49</td>\n",
       "      <td>2017-08-14</td>\n",
       "      <td>dagfar69</td>\n",
       "      <td>brasil</td>\n",
       "      <td>1.502728e+09</td>\n",
       "      <td>2.0</td>\n",
       "      <td>0.0</td>\n",
       "      <td>Ele explicou como receber o salário em bitcoin...</td>\n",
       "    </tr>\n",
       "    <tr>\n",
       "      <th>...</th>\n",
       "      <td>...</td>\n",
       "      <td>...</td>\n",
       "      <td>...</td>\n",
       "      <td>...</td>\n",
       "      <td>...</td>\n",
       "      <td>...</td>\n",
       "      <td>...</td>\n",
       "      <td>...</td>\n",
       "      <td>...</td>\n",
       "      <td>...</td>\n",
       "    </tr>\n",
       "    <tr>\n",
       "      <th>1705044</th>\n",
       "      <td>4308167</td>\n",
       "      <td>4192283</td>\n",
       "      <td>2019-01-05 19:45:06</td>\n",
       "      <td>2019-01-05</td>\n",
       "      <td>accelerated_dragon</td>\n",
       "      <td>litecoin</td>\n",
       "      <td>1.546718e+09</td>\n",
       "      <td>-1.0</td>\n",
       "      <td>1.0</td>\n",
       "      <td>Visa does  times more than bitcoin. The streng...</td>\n",
       "    </tr>\n",
       "    <tr>\n",
       "      <th>1705045</th>\n",
       "      <td>4308168</td>\n",
       "      <td>4192284</td>\n",
       "      <td>2019-01-02 20:33:42</td>\n",
       "      <td>2019-01-02</td>\n",
       "      <td>emreddit</td>\n",
       "      <td>CryptoCurrency</td>\n",
       "      <td>1.546461e+09</td>\n",
       "      <td>-1.0</td>\n",
       "      <td>0.0</td>\n",
       "      <td>why are you lying? If its Bitcoin will you buy...</td>\n",
       "    </tr>\n",
       "    <tr>\n",
       "      <th>1705046</th>\n",
       "      <td>4308169</td>\n",
       "      <td>4192285</td>\n",
       "      <td>2019-01-19 22:00:33</td>\n",
       "      <td>2019-01-19</td>\n",
       "      <td>jakesonwu</td>\n",
       "      <td>btc</td>\n",
       "      <td>1.547935e+09</td>\n",
       "      <td>-1.0</td>\n",
       "      <td>1.0</td>\n",
       "      <td>Who controls Bitcoin Core ?httpsmedium.comlopp...</td>\n",
       "    </tr>\n",
       "    <tr>\n",
       "      <th>1705047</th>\n",
       "      <td>4308170</td>\n",
       "      <td>4192286</td>\n",
       "      <td>2019-01-02 23:26:56</td>\n",
       "      <td>2019-01-02</td>\n",
       "      <td>shitpplsay</td>\n",
       "      <td>CryptoCurrency</td>\n",
       "      <td>1.546472e+09</td>\n",
       "      <td>-1.0</td>\n",
       "      <td>1.0</td>\n",
       "      <td>Should never ever have to or be able to tie a ...</td>\n",
       "    </tr>\n",
       "    <tr>\n",
       "      <th>1705048</th>\n",
       "      <td>4308172</td>\n",
       "      <td>4192288</td>\n",
       "      <td>2019-01-18 20:50:36</td>\n",
       "      <td>2019-01-18</td>\n",
       "      <td>whalecheetah</td>\n",
       "      <td>btc</td>\n",
       "      <td>1.547845e+09</td>\n",
       "      <td>-1.0</td>\n",
       "      <td>1.0</td>\n",
       "      <td>There are no two primary Bitcoin Forks. There ...</td>\n",
       "    </tr>\n",
       "  </tbody>\n",
       "</table>\n",
       "<p>1705049 rows × 10 columns</p>\n",
       "</div>"
      ],
      "text/plain": [
       "           index Unnamed: 0            datetime        date  \\\n",
       "0        1758064    1642193 2017-08-31 06:06:41  2017-08-31   \n",
       "1        1758065    1642194 2017-08-04 18:33:17  2017-08-04   \n",
       "2        1758066    1642195 2017-08-09 20:50:47  2017-08-09   \n",
       "3        1758067    1642196 2017-08-27 00:09:45  2017-08-27   \n",
       "4        1758068    1642197 2017-08-14 16:25:49  2017-08-14   \n",
       "...          ...        ...                 ...         ...   \n",
       "1705044  4308167    4192283 2019-01-05 19:45:06  2019-01-05   \n",
       "1705045  4308168    4192284 2019-01-02 20:33:42  2019-01-02   \n",
       "1705046  4308169    4192285 2019-01-19 22:00:33  2019-01-19   \n",
       "1705047  4308170    4192286 2019-01-02 23:26:56  2019-01-02   \n",
       "1705048  4308172    4192288 2019-01-18 20:50:36  2019-01-18   \n",
       "\n",
       "                     author       subreddit   created_utc  score  \\\n",
       "0                   jstolfi             btc  1.504160e+09    2.0   \n",
       "1               zanetackett             btc  1.501872e+09   18.0   \n",
       "2             csehszlovakze           MGTOW  1.502312e+09    3.0   \n",
       "3           ohsnapitsjaycee          GCXRep  1.503793e+09    1.0   \n",
       "4                  dagfar69          brasil  1.502728e+09    2.0   \n",
       "...                     ...             ...           ...    ...   \n",
       "1705044  accelerated_dragon        litecoin  1.546718e+09   -1.0   \n",
       "1705045            emreddit  CryptoCurrency  1.546461e+09   -1.0   \n",
       "1705046           jakesonwu             btc  1.547935e+09   -1.0   \n",
       "1705047          shitpplsay  CryptoCurrency  1.546472e+09   -1.0   \n",
       "1705048        whalecheetah             btc  1.547845e+09   -1.0   \n",
       "\n",
       "         controversiality                                               body  \n",
       "0                     0.0  gt Of course the devs force their plans on eve...  \n",
       "1                     0.0  is that the case currently? Bitcoin seems to f...  \n",
       "2                     0.0  he could move his ass to a nonextradition coun...  \n",
       "3                     0.0    TRADE COMPLETED WITH ucrustymech  ITEMS TRAD...  \n",
       "4                     0.0  Ele explicou como receber o salário em bitcoin...  \n",
       "...                   ...                                                ...  \n",
       "1705044               1.0  Visa does  times more than bitcoin. The streng...  \n",
       "1705045               0.0  why are you lying? If its Bitcoin will you buy...  \n",
       "1705046               1.0  Who controls Bitcoin Core ?httpsmedium.comlopp...  \n",
       "1705047               1.0  Should never ever have to or be able to tie a ...  \n",
       "1705048               1.0  There are no two primary Bitcoin Forks. There ...  \n",
       "\n",
       "[1705049 rows x 10 columns]"
      ]
     },
     "execution_count": 20,
     "metadata": {},
     "output_type": "execute_result"
    }
   ],
   "source": [
    "bitcoin_data['body'] = bitcoin_data['body'].replace({'[^\\w\\s.?!]':'',\n",
    "                                         '\\d':'',\n",
    "                                         '\\n':' ',\n",
    "                                         'http.*\\s':' ',\n",
    "                                            }, regex=True)\n",
    "bitcoin_data\n",
    "# pd.Series(['foo', 'fuz', np.nan]).str.replace('f.', 'ba', regex=True)"
   ]
  },
  {
   "cell_type": "markdown",
   "id": "e675c5cb",
   "metadata": {},
   "source": [
    "Now to handle the non english items. To do this, we will use an external package."
   ]
  },
  {
   "cell_type": "code",
   "execution_count": 21,
   "id": "0baf4de5",
   "metadata": {},
   "outputs": [],
   "source": [
    "import numpy as np\n"
   ]
  },
  {
   "cell_type": "code",
   "execution_count": 34,
   "id": "1459f0b6",
   "metadata": {},
   "outputs": [],
   "source": [
    "bitcoin_data_list = np.array_split(bitcoin_data, int(len(bitcoin_data.index)/10000))"
   ]
  },
  {
   "cell_type": "code",
   "execution_count": 35,
   "id": "41d4a445",
   "metadata": {},
   "outputs": [
    {
     "data": {
      "text/plain": [
       "10030"
      ]
     },
     "execution_count": 35,
     "metadata": {},
     "output_type": "execute_result"
    }
   ],
   "source": [
    "len(bitcoin_data_list[0].index)"
   ]
  },
  {
   "cell_type": "code",
   "execution_count": 23,
   "id": "1ff29ec6",
   "metadata": {},
   "outputs": [
    {
     "data": {
      "text/html": [
       "<div>\n",
       "<style scoped>\n",
       "    .dataframe tbody tr th:only-of-type {\n",
       "        vertical-align: middle;\n",
       "    }\n",
       "\n",
       "    .dataframe tbody tr th {\n",
       "        vertical-align: top;\n",
       "    }\n",
       "\n",
       "    .dataframe thead th {\n",
       "        text-align: right;\n",
       "    }\n",
       "</style>\n",
       "<table border=\"1\" class=\"dataframe\">\n",
       "  <thead>\n",
       "    <tr style=\"text-align: right;\">\n",
       "      <th></th>\n",
       "      <th>index</th>\n",
       "      <th>Unnamed: 0</th>\n",
       "      <th>datetime</th>\n",
       "      <th>date</th>\n",
       "      <th>author</th>\n",
       "      <th>subreddit</th>\n",
       "      <th>created_utc</th>\n",
       "      <th>score</th>\n",
       "      <th>controversiality</th>\n",
       "      <th>body</th>\n",
       "    </tr>\n",
       "  </thead>\n",
       "  <tbody>\n",
       "    <tr>\n",
       "      <th>0</th>\n",
       "      <td>1758064</td>\n",
       "      <td>1642193</td>\n",
       "      <td>2017-08-31 06:06:41</td>\n",
       "      <td>2017-08-31</td>\n",
       "      <td>jstolfi</td>\n",
       "      <td>btc</td>\n",
       "      <td>1.504160e+09</td>\n",
       "      <td>2.0</td>\n",
       "      <td>0.0</td>\n",
       "      <td>gt Of course the devs force their plans on eve...</td>\n",
       "    </tr>\n",
       "    <tr>\n",
       "      <th>1</th>\n",
       "      <td>1758065</td>\n",
       "      <td>1642194</td>\n",
       "      <td>2017-08-04 18:33:17</td>\n",
       "      <td>2017-08-04</td>\n",
       "      <td>zanetackett</td>\n",
       "      <td>btc</td>\n",
       "      <td>1.501872e+09</td>\n",
       "      <td>18.0</td>\n",
       "      <td>0.0</td>\n",
       "      <td>is that the case currently? Bitcoin seems to f...</td>\n",
       "    </tr>\n",
       "    <tr>\n",
       "      <th>2</th>\n",
       "      <td>1758066</td>\n",
       "      <td>1642195</td>\n",
       "      <td>2017-08-09 20:50:47</td>\n",
       "      <td>2017-08-09</td>\n",
       "      <td>csehszlovakze</td>\n",
       "      <td>MGTOW</td>\n",
       "      <td>1.502312e+09</td>\n",
       "      <td>3.0</td>\n",
       "      <td>0.0</td>\n",
       "      <td>he could move his ass to a nonextradition coun...</td>\n",
       "    </tr>\n",
       "    <tr>\n",
       "      <th>3</th>\n",
       "      <td>1758067</td>\n",
       "      <td>1642196</td>\n",
       "      <td>2017-08-27 00:09:45</td>\n",
       "      <td>2017-08-27</td>\n",
       "      <td>ohsnapitsjaycee</td>\n",
       "      <td>GCXRep</td>\n",
       "      <td>1.503793e+09</td>\n",
       "      <td>1.0</td>\n",
       "      <td>0.0</td>\n",
       "      <td>TRADE COMPLETED WITH ucrustymech  ITEMS TRAD...</td>\n",
       "    </tr>\n",
       "    <tr>\n",
       "      <th>4</th>\n",
       "      <td>1758068</td>\n",
       "      <td>1642197</td>\n",
       "      <td>2017-08-14 16:25:49</td>\n",
       "      <td>2017-08-14</td>\n",
       "      <td>dagfar69</td>\n",
       "      <td>brasil</td>\n",
       "      <td>1.502728e+09</td>\n",
       "      <td>2.0</td>\n",
       "      <td>0.0</td>\n",
       "      <td>Ele explicou como receber o salário em bitcoin...</td>\n",
       "    </tr>\n",
       "  </tbody>\n",
       "</table>\n",
       "</div>"
      ],
      "text/plain": [
       "     index Unnamed: 0            datetime        date           author  \\\n",
       "0  1758064    1642193 2017-08-31 06:06:41  2017-08-31          jstolfi   \n",
       "1  1758065    1642194 2017-08-04 18:33:17  2017-08-04      zanetackett   \n",
       "2  1758066    1642195 2017-08-09 20:50:47  2017-08-09    csehszlovakze   \n",
       "3  1758067    1642196 2017-08-27 00:09:45  2017-08-27  ohsnapitsjaycee   \n",
       "4  1758068    1642197 2017-08-14 16:25:49  2017-08-14         dagfar69   \n",
       "\n",
       "  subreddit   created_utc  score  controversiality  \\\n",
       "0       btc  1.504160e+09    2.0               0.0   \n",
       "1       btc  1.501872e+09   18.0               0.0   \n",
       "2     MGTOW  1.502312e+09    3.0               0.0   \n",
       "3    GCXRep  1.503793e+09    1.0               0.0   \n",
       "4    brasil  1.502728e+09    2.0               0.0   \n",
       "\n",
       "                                                body  \n",
       "0  gt Of course the devs force their plans on eve...  \n",
       "1  is that the case currently? Bitcoin seems to f...  \n",
       "2  he could move his ass to a nonextradition coun...  \n",
       "3    TRADE COMPLETED WITH ucrustymech  ITEMS TRAD...  \n",
       "4  Ele explicou como receber o salário em bitcoin...  "
      ]
     },
     "execution_count": 23,
     "metadata": {},
     "output_type": "execute_result"
    }
   ],
   "source": [
    "from langdetect import detect\n",
    "\n",
    "\n",
    "\n",
    "def lang_detect_df(row):\n",
    "    try: \n",
    "        lang = detect(row['body'])\n",
    "    except:\n",
    "        lang = 'unknown'\n",
    "    return lang\n",
    "    \n",
    "\n",
    "# bitcoin_data['lang'] = bitcoin_data.apply(lang_detect_df, axis =1)\n",
    "bitcoin_data.head()"
   ]
  },
  {
   "cell_type": "code",
   "execution_count": null,
   "id": "4b87247f",
   "metadata": {
    "scrolled": true
   },
   "outputs": [
    {
     "name": "stdout",
     "output_type": "stream",
     "text": [
      "chunk 0 of 170 completed\n",
      "chunk 1 of 170 completed\n",
      "chunk 2 of 170 completed\n",
      "chunk 3 of 170 completed\n",
      "chunk 4 of 170 completed\n",
      "chunk 5 of 170 completed\n",
      "chunk 6 of 170 completed\n",
      "chunk 7 of 170 completed\n",
      "chunk 8 of 170 completed\n",
      "chunk 9 of 170 completed\n",
      "chunk 10 of 170 completed\n",
      "chunk 11 of 170 completed\n",
      "chunk 12 of 170 completed\n",
      "chunk 13 of 170 completed\n"
     ]
    }
   ],
   "source": [
    "# bitcoin_data_fin = pd.DataFrame()\n",
    "for i in range(len(bitcoin_data_list[10:])):\n",
    "    bitcoin_data_lang = bitcoin_data_list[i]\n",
    "    bitcoin_data_lang['lang'] = bitcoin_data_lang.apply(lang_detect_df, axis =1)\n",
    "    bitcoin_data_fin = pd.concat([bitcoin_data_fin,bitcoin_data_lang], ignore_index=True)\n",
    "    print(f'chunk {i} of {len(bitcoin_data_list)} completed')\n",
    "\n",
    "bitcoin_data_fin.reset_index(inplace=True)\n",
    "bitcoin_data_fin.to_csv('../Data/reddit_with_lang.csv')"
   ]
  },
  {
   "cell_type": "code",
   "execution_count": 29,
   "id": "4e020d91",
   "metadata": {},
   "outputs": [
    {
     "data": {
      "text/html": [
       "<div>\n",
       "<style scoped>\n",
       "    .dataframe tbody tr th:only-of-type {\n",
       "        vertical-align: middle;\n",
       "    }\n",
       "\n",
       "    .dataframe tbody tr th {\n",
       "        vertical-align: top;\n",
       "    }\n",
       "\n",
       "    .dataframe thead th {\n",
       "        text-align: right;\n",
       "    }\n",
       "</style>\n",
       "<table border=\"1\" class=\"dataframe\">\n",
       "  <thead>\n",
       "    <tr style=\"text-align: right;\">\n",
       "      <th></th>\n",
       "      <th>index</th>\n",
       "      <th>Unnamed: 0</th>\n",
       "      <th>datetime</th>\n",
       "      <th>date</th>\n",
       "      <th>author</th>\n",
       "      <th>subreddit</th>\n",
       "      <th>created_utc</th>\n",
       "      <th>score</th>\n",
       "      <th>controversiality</th>\n",
       "      <th>body</th>\n",
       "      <th>lang</th>\n",
       "    </tr>\n",
       "  </thead>\n",
       "  <tbody>\n",
       "    <tr>\n",
       "      <th>9972</th>\n",
       "      <td>1829223</td>\n",
       "      <td>1713352</td>\n",
       "      <td>2017-08-06 03:07:24</td>\n",
       "      <td>2017-08-06</td>\n",
       "      <td>sw33tandslutty</td>\n",
       "      <td>redditamateurvids</td>\n",
       "      <td>1.501989e+09</td>\n",
       "      <td>1.0</td>\n",
       "      <td>0.0</td>\n",
       "      <td>Get my latest premade vid   Video  GC.</td>\n",
       "      <td>es</td>\n",
       "    </tr>\n",
       "    <tr>\n",
       "      <th>9984</th>\n",
       "      <td>1829235</td>\n",
       "      <td>1713364</td>\n",
       "      <td>2017-08-09 20:45:58</td>\n",
       "      <td>2017-08-09</td>\n",
       "      <td>matg0d</td>\n",
       "      <td>brasil</td>\n",
       "      <td>1.502312e+09</td>\n",
       "      <td>0.0</td>\n",
       "      <td>0.0</td>\n",
       "      <td>Evitar bancos faz grande parte dos motivos por...</td>\n",
       "      <td>pt</td>\n",
       "    </tr>\n",
       "    <tr>\n",
       "      <th>10026</th>\n",
       "      <td>1829277</td>\n",
       "      <td>1713406</td>\n",
       "      <td>2017-08-30 15:16:28</td>\n",
       "      <td>2017-08-30</td>\n",
       "      <td>TweetsInCommentsBot</td>\n",
       "      <td>Bitcoin</td>\n",
       "      <td>1.504106e+09</td>\n",
       "      <td>1.0</td>\n",
       "      <td>0.0</td>\n",
       "      <td>PeterSchiff</td>\n",
       "      <td>de</td>\n",
       "    </tr>\n",
       "  </tbody>\n",
       "</table>\n",
       "</div>"
      ],
      "text/plain": [
       "         index Unnamed: 0            datetime        date  \\\n",
       "9972   1829223    1713352 2017-08-06 03:07:24  2017-08-06   \n",
       "9984   1829235    1713364 2017-08-09 20:45:58  2017-08-09   \n",
       "10026  1829277    1713406 2017-08-30 15:16:28  2017-08-30   \n",
       "\n",
       "                    author          subreddit   created_utc  score  \\\n",
       "9972        sw33tandslutty  redditamateurvids  1.501989e+09    1.0   \n",
       "9984                matg0d             brasil  1.502312e+09    0.0   \n",
       "10026  TweetsInCommentsBot            Bitcoin  1.504106e+09    1.0   \n",
       "\n",
       "       controversiality                                               body  \\\n",
       "9972                0.0             Get my latest premade vid   Video  GC.   \n",
       "9984                0.0  Evitar bancos faz grande parte dos motivos por...   \n",
       "10026               0.0                                       PeterSchiff    \n",
       "\n",
       "      lang  \n",
       "9972    es  \n",
       "9984    pt  \n",
       "10026   de  "
      ]
     },
     "execution_count": 29,
     "metadata": {},
     "output_type": "execute_result"
    }
   ],
   "source": [
    "bitcoin_data_lang.loc[bitcoin_data_lang['lang'] != 'en']"
   ]
  },
  {
   "cell_type": "code",
   "execution_count": null,
   "id": "f7aefe35",
   "metadata": {},
   "outputs": [],
   "source": [
    "bitcoin_data = bitcoin_data.drop(bitcoin_data[bitcoin_data['lang'] != 'en'].index)"
   ]
  },
  {
   "cell_type": "code",
   "execution_count": null,
   "id": "85cfe0f7",
   "metadata": {},
   "outputs": [],
   "source": []
  },
  {
   "cell_type": "code",
   "execution_count": null,
   "id": "3004ee31",
   "metadata": {},
   "outputs": [],
   "source": []
  },
  {
   "cell_type": "code",
   "execution_count": null,
   "id": "ae8bc5c9",
   "metadata": {},
   "outputs": [],
   "source": []
  },
  {
   "cell_type": "markdown",
   "id": "05b6b45e",
   "metadata": {},
   "source": [
    "# Sentiment Tagging"
   ]
  },
  {
   "cell_type": "code",
   "execution_count": null,
   "id": "f7722827",
   "metadata": {},
   "outputs": [],
   "source": [
    "from transformers import pipeline\n",
    "sentiment_pipeline = pipeline(\"sentiment-analysis\")\n",
    "data = [\"It was the best of times.\", \"t was the worst of times.\"]\n",
    "sentiment_pipeline(data)"
   ]
  },
  {
   "cell_type": "code",
   "execution_count": null,
   "id": "286a8571",
   "metadata": {},
   "outputs": [],
   "source": [
    "data = [\"I think it is humorous that miners are considered intelligent people by so many. \"]\n",
    "sentiment_pipeline(data)"
   ]
  },
  {
   "cell_type": "code",
   "execution_count": null,
   "id": "893cea5c",
   "metadata": {},
   "outputs": [],
   "source": [
    "from vaderSentiment.vaderSentiment import SentimentIntensityAnalyzer\n",
    "sentiment = SentimentIntensityAnalyzer()\n",
    "text_1 = \"I think it is humorous that miners are considered intelligent people by so many. \"\n",
    "text_2 =  \"The pizza tastes terrible.\"\n",
    "sent_1 = sentiment.polarity_scores(text_1)\n",
    "sent_2 = sentiment.polarity_scores(text_2)\n",
    "print(\"Sentiment of text 1:\", sent_1)\n",
    "print(\"Sentiment of text 2:\", sent_2)"
   ]
  }
 ],
 "metadata": {
  "kernelspec": {
   "display_name": "Python 3 (ipykernel)",
   "language": "python",
   "name": "python3"
  },
  "language_info": {
   "codemirror_mode": {
    "name": "ipython",
    "version": 3
   },
   "file_extension": ".py",
   "mimetype": "text/x-python",
   "name": "python",
   "nbconvert_exporter": "python",
   "pygments_lexer": "ipython3",
   "version": "3.9.12"
  }
 },
 "nbformat": 4,
 "nbformat_minor": 5
}
